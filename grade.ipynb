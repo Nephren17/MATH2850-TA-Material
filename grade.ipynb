{
 "cells": [
  {
   "cell_type": "code",
   "execution_count": 3,
   "metadata": {},
   "outputs": [
    {
     "name": "stdout",
     "output_type": "stream",
     "text": [
      "0       NaN\n",
      "1      25.0\n",
      "2       7.0\n",
      "3      15.0\n",
      "4      18.0\n",
      "       ... \n",
      "158    12.0\n",
      "159     3.5\n",
      "160    18.5\n",
      "161    15.5\n",
      "162     NaN\n",
      "Name: Second Midterm Exam (5586), Length: 163, dtype: float64\n"
     ]
    }
   ],
   "source": [
    "import pandas as pd\n",
    "\n",
    "# 读取CSV文件，假设文件名为grades.csv，如果不在当前工作目录下，需要提供完整路径\n",
    "df = pd.read_csv('grades.csv')\n",
    "\n",
    "# 提取\"Second Midterm Exam (5586)\"这一列的数据\n",
    "second_midterm_exam_scores = df['Second Midterm Exam (5586)']\n",
    "\n",
    "# 打印提取出来的数据\n",
    "print(second_midterm_exam_scores)\n"
   ]
  },
  {
   "cell_type": "code",
   "execution_count": 4,
   "metadata": {},
   "outputs": [
    {
     "name": "stdout",
     "output_type": "stream",
     "text": [
      "0       7.0\n",
      "1      15.0\n",
      "2      18.0\n",
      "3      12.0\n",
      "4      16.0\n",
      "       ... \n",
      "155    16.0\n",
      "156    12.0\n",
      "157     3.5\n",
      "158    18.5\n",
      "159    15.5\n",
      "Name: Second Midterm Exam (5586), Length: 160, dtype: float64\n"
     ]
    }
   ],
   "source": [
    "import pandas as pd\n",
    "\n",
    "# 读取CSV文件，假设文件名为grades.csv，如果不在当前工作目录下，需要提供完整路径\n",
    "df = pd.read_csv('grades.csv')\n",
    "\n",
    "# 提取\"Second Midterm Exam (5586)\"这一列的数据\n",
    "second_midterm_exam_scores = df['Second Midterm Exam (5586)']\n",
    "\n",
    "\n",
    "# 删除第一行和第二行\n",
    "second_midterm_exam_scores = second_midterm_exam_scores.drop([0, 1,162]).reset_index(drop=True)\n",
    "\n",
    "\n",
    "# 打印处理后的数据\n",
    "print(second_midterm_exam_scores)\n"
   ]
  },
  {
   "cell_type": "code",
   "execution_count": 5,
   "metadata": {},
   "outputs": [
    {
     "name": "stdout",
     "output_type": "stream",
     "text": [
      "Q1: 10.5\n",
      "Q2 (Median): 14.0\n",
      "Q3: 16.5\n"
     ]
    },
    {
     "data": {
      "image/png": "[encoded data removed]",
      "text/plain": [
       "<Figure size 800x600 with 1 Axes>"
      ]
     },
     "metadata": {},
     "output_type": "display_data"
    }
   ],
   "source": [
    "import pandas as pd\n",
    "import matplotlib.pyplot as plt\n",
    "\n",
    "# 读取CSV文件，假设文件名为grades.csv，如果不在当前工作目录下，需要提供完整路径\n",
    "df = pd.read_csv('grades.csv')\n",
    "\n",
    "# 提取\"Second Midterm Exam (5586)\"这一列的数据\n",
    "second_midterm_exam_scores = df['Second Midterm Exam (5586)']\n",
    "\n",
    "# 去除没有分数或分数为0的数据点\n",
    "second_midterm_exam_scores = second_midterm_exam_scores[(second_midterm_exam_scores.notnull()) & (second_midterm_exam_scores != 0)]\n",
    "\n",
    "# 计算Q1、Q2（中位数）、Q3的值\n",
    "q1 = second_midterm_exam_scores.quantile(0.25)\n",
    "q2 = second_midterm_exam_scores.quantile(0.5)\n",
    "q3 = second_midterm_exam_scores.quantile(0.75)\n",
    "\n",
    "# 输出Q1、Q2、Q3的值\n",
    "print(\"Q1:\", q1)\n",
    "print(\"Q2 (Median):\", q2)\n",
    "print(\"Q3:\", q3)\n",
    "\n",
    "# 绘制分位图\n",
    "plt.figure(figsize=(8, 6))\n",
    "plt.boxplot(second_midterm_exam_scores, vert=False, labels=['Second Midterm Exam'])\n",
    "plt.title('Second Midterm Exam - Box Plot')\n",
    "plt.xlabel('Score')\n",
    "plt.show()\n"
   ]
  },
  {
   "cell_type": "code",
   "execution_count": 7,
   "metadata": {},
   "outputs": [
    {
     "name": "stdout",
     "output_type": "stream",
     "text": [
      "11\n"
     ]
    }
   ],
   "source": [
    "count_above_20 = len(second_midterm_exam_scores[second_midterm_exam_scores > 20])\n",
    "print(count_above_20)\n"
   ]
  },
  {
   "cell_type": "code",
   "execution_count": null,
   "metadata": {},
   "outputs": [],
   "source": []
  }
 ],
 "metadata": {
  "kernelspec": {
   "display_name": "Python 3.9.16",
   "language": "python",
   "name": "python3"
  },
  "language_info": {
   "codemirror_mode": {
    "name": "ipython",
    "version": 3
   },
   "file_extension": ".py",
   "mimetype": "text/x-python",
   "name": "python",
   "nbconvert_exporter": "python",
   "pygments_lexer": "ipython3",
   "version": "3.9.16"
  },
  "orig_nbformat": 4,
  "vscode": {
   "interpreter": {
    "hash": "c983fec0c6d0c70a8d3b1dc40c2e1f472cad94d6448fb8d406ec8215f1b3c2cb"
   }
  }
 },
 "nbformat": 4,
 "nbformat_minor": 2
}
